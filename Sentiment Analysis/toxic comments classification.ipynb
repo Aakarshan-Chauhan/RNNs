{
 "cells": [
  {
   "cell_type": "markdown",
   "execution_count": null,
   "metadata": {},
   "source": [
    "# Toxic Comments classification Using Deep Learning.\n",
    "##### Even if most of it is just preprocessing of data"
   ]
  },
  {
   "cell_type": "code",
   "execution_count": 1,
   "metadata": {
    "_cell_guid": "b1076dfc-b9ad-4769-8c92-a6c4dae69d19",
    "_uuid": "8f2839f25d086af736a60e9eeb907d3b93b6e0e5"
   },
   "outputs": [],
   "source": [
    "import tensorflow as tf\n",
    "from tensorflow.keras.preprocessing.text import Tokenizer\n",
    "from tensorflow.keras.preprocessing.sequence import pad_sequences\n",
    "import matplotlib.pyplot as plt\n",
    "import pandas as pd\n",
    "import numpy as np\n",
    "dir = \"../input/cleaned-toxic-comments/train_preprocessed.csv\""
   ]
  },
  {
   "cell_type": "markdown",
   "execution_count": null,
   "metadata": {},
   "source": [
    "\n",
    "## Get the Corpus of all the comments and related Toxicity fields"
   ]
  },
  {
   "cell_type": "code",
   "execution_count": 2,
   "metadata": {
    "_cell_guid": "79c7e3d0-c299-4dcb-8224-4455121ee9b0",
    "_uuid": "d629ff2d2480ee46fbb7e2d37f6b5fab8052498a"
   },
   "outputs": [
    {
     "data": {
      "text/html": [
       "<div>\n",
       "<style scoped>\n",
       "    .dataframe tbody tr th:only-of-type {\n",
       "        vertical-align: middle;\n",
       "    }\n",
       "\n",
       "    .dataframe tbody tr th {\n",
       "        vertical-align: top;\n",
       "    }\n",
       "\n",
       "    .dataframe thead th {\n",
       "        text-align: right;\n",
       "    }\n",
       "</style>\n",
       "<table border=\"1\" class=\"dataframe\">\n",
       "  <thead>\n",
       "    <tr style=\"text-align: right;\">\n",
       "      <th></th>\n",
       "      <th>comment_text</th>\n",
       "      <th>id</th>\n",
       "      <th>identity_hate</th>\n",
       "      <th>insult</th>\n",
       "      <th>obscene</th>\n",
       "      <th>set</th>\n",
       "      <th>severe_toxic</th>\n",
       "      <th>threat</th>\n",
       "      <th>toxic</th>\n",
       "      <th>toxicity</th>\n",
       "    </tr>\n",
       "  </thead>\n",
       "  <tbody>\n",
       "    <tr>\n",
       "      <th>0</th>\n",
       "      <td>explanation why the edits made under my userna...</td>\n",
       "      <td>0000997932d777bf</td>\n",
       "      <td>0.0</td>\n",
       "      <td>0.0</td>\n",
       "      <td>0.0</td>\n",
       "      <td>train</td>\n",
       "      <td>0.0</td>\n",
       "      <td>0.0</td>\n",
       "      <td>0.0</td>\n",
       "      <td>0.0</td>\n",
       "    </tr>\n",
       "    <tr>\n",
       "      <th>1</th>\n",
       "      <td>d aww  he matches this background colour i m s...</td>\n",
       "      <td>000103f0d9cfb60f</td>\n",
       "      <td>0.0</td>\n",
       "      <td>0.0</td>\n",
       "      <td>0.0</td>\n",
       "      <td>train</td>\n",
       "      <td>0.0</td>\n",
       "      <td>0.0</td>\n",
       "      <td>0.0</td>\n",
       "      <td>0.0</td>\n",
       "    </tr>\n",
       "    <tr>\n",
       "      <th>2</th>\n",
       "      <td>hey man  i m really not trying to edit war  it...</td>\n",
       "      <td>000113f07ec002fd</td>\n",
       "      <td>0.0</td>\n",
       "      <td>0.0</td>\n",
       "      <td>0.0</td>\n",
       "      <td>train</td>\n",
       "      <td>0.0</td>\n",
       "      <td>0.0</td>\n",
       "      <td>0.0</td>\n",
       "      <td>0.0</td>\n",
       "    </tr>\n",
       "    <tr>\n",
       "      <th>3</th>\n",
       "      <td>more i can t make any real suggestions on im...</td>\n",
       "      <td>0001b41b1c6bb37e</td>\n",
       "      <td>0.0</td>\n",
       "      <td>0.0</td>\n",
       "      <td>0.0</td>\n",
       "      <td>train</td>\n",
       "      <td>0.0</td>\n",
       "      <td>0.0</td>\n",
       "      <td>0.0</td>\n",
       "      <td>0.0</td>\n",
       "    </tr>\n",
       "    <tr>\n",
       "      <th>4</th>\n",
       "      <td>you  sir  are my hero  any chance you remember...</td>\n",
       "      <td>0001d958c54c6e35</td>\n",
       "      <td>0.0</td>\n",
       "      <td>0.0</td>\n",
       "      <td>0.0</td>\n",
       "      <td>train</td>\n",
       "      <td>0.0</td>\n",
       "      <td>0.0</td>\n",
       "      <td>0.0</td>\n",
       "      <td>0.0</td>\n",
       "    </tr>\n",
       "  </tbody>\n",
       "</table>\n",
       "</div>"
      ],
      "text/plain": [
       "                                        comment_text                id  \\\n",
       "0  explanation why the edits made under my userna...  0000997932d777bf   \n",
       "1  d aww  he matches this background colour i m s...  000103f0d9cfb60f   \n",
       "2  hey man  i m really not trying to edit war  it...  000113f07ec002fd   \n",
       "3    more i can t make any real suggestions on im...  0001b41b1c6bb37e   \n",
       "4  you  sir  are my hero  any chance you remember...  0001d958c54c6e35   \n",
       "\n",
       "   identity_hate  insult  obscene    set  severe_toxic  threat  toxic  \\\n",
       "0            0.0     0.0      0.0  train           0.0     0.0    0.0   \n",
       "1            0.0     0.0      0.0  train           0.0     0.0    0.0   \n",
       "2            0.0     0.0      0.0  train           0.0     0.0    0.0   \n",
       "3            0.0     0.0      0.0  train           0.0     0.0    0.0   \n",
       "4            0.0     0.0      0.0  train           0.0     0.0    0.0   \n",
       "\n",
       "   toxicity  \n",
       "0       0.0  \n",
       "1       0.0  \n",
       "2       0.0  \n",
       "3       0.0  \n",
       "4       0.0  "
      ]
     },
     "execution_count": 2,
     "metadata": {},
     "output_type": "execute_result"
    }
   ],
   "source": [
    "data = pd.read_csv(dir)\n",
    "data.head()"
   ]
  },
  {
   "cell_type": "markdown",
   "execution_count": null,
   "metadata": {},
   "source": [
    "### We can see that the dataset contains the following fields,\n",
    "1. comment_text: The comments in english\n",
    "2. id: The comment Id (not useful)\n",
    "3. identity_hate, insult, obscene, severe_toxic, threat, toxic: the types of toxicity in the comment\n",
    "4. set: whether the comment is in train set or test set (since this is only training, this column isnt required)\n",
    "5. toxicity: the measure of toxicity of the comment.( 0 for non toxic, 1 and above for toxic with increasing severity"
   ]
  },
  {
   "cell_type": "markdown",
   "execution_count": null,
   "metadata": {},
   "source": [
    "## Since we are making a simple binary classifier which seperates toxic from non toxic, we can drop the types of toxicity and only keep the \"toxicity\" feature."
   ]
  },
  {
   "cell_type": "markdown",
   "execution_count": null,
   "metadata": {},
   "source": [
    "## Divide the data set into features and labels:\n",
    "> Features = \"comment\"            \n",
    "> Labels = \"toxicity\""
   ]
  },
  {
   "cell_type": "code",
   "execution_count": 3,
   "metadata": {},
   "outputs": [],
   "source": [
    "Features = data['comment_text']\n",
    "Labels = np.array([0 if y == 0 else 1 for y in data['toxicity']])"
   ]
  },
  {
   "cell_type": "markdown",
   "execution_count": null,
   "metadata": {},
   "source": [
    "# Tokenizing and preprocessing the data\n",
    "\n",
    "### As we can see, the comments are in string format. Since our models require numerical data to work with, we need to convert these words into some numbers.\n",
    "\n",
    "#### We can use the Tokenize function provided by keras api to convert the words in our comment_text to unique numbers for each word"
   ]
  },
  {
   "cell_type": "code",
   "execution_count": 4,
   "metadata": {},
   "outputs": [],
   "source": [
    "NUM_WORDS = 40000 # Maximum number of unique words which need to be tokenized\n",
    "MAXLEN = 50 # Maximum length of a sentence/ comment\n",
    "PADDING = 'post' # The type of padding done for sentences shorter than the Max len"
   ]
  },
  {
   "cell_type": "code",
   "execution_count": 5,
   "metadata": {},
   "outputs": [],
   "source": [
    "tokenizer = Tokenizer(num_words=NUM_WORDS)\n",
    "\n",
    "# Fit the tokenizer on the comments \n",
    "tokenizer.fit_on_texts(Features)\n",
    "\n",
    "# Get the word index of the top 20000 words from the dataset\n",
    "word_idx = tokenizer.word_index\n",
    "\n",
    "# Convert the string sentence to a sequence of their numerical values\n",
    "Feature_sequences = tokenizer.texts_to_sequences(Features)\n",
    "\n",
    "# Pad the sequences to make them of uniform length\n",
    "padded_sequences = pad_sequences(Feature_sequences, maxlen = MAXLEN, padding = PADDING)"
   ]
  },
  {
   "cell_type": "code",
   "execution_count": 6,
   "metadata": {},
   "outputs": [
    {
     "name": "stdout",
     "output_type": "stream",
     "text": [
      "The Transformation of sentence::\n",
      "\n",
      "\n",
      "The normal Sentencen:\n",
      "\n",
      "hey man  i m really not trying to edit war  it s just that this guy is constantly removing relevant information and talking to me through edits instead of my talk page  he seems to care more about the formatting than the actual info \n",
      "\n",
      "\n",
      "The tokenized sequence:\n",
      "\n",
      "[406, 415, 3, 69, 138, 14, 252, 2, 77, 317, 10, 17, 54, 9, 13, 591, 8, 2183, 493, 503, 107, 5, 598, 2, 39, 332, 131, 365, 4, 31, 38, 30, 51, 214, 2, 429, 61, 40, 1, 2276, 97, 1, 717, 466]\n",
      "\n",
      "\n",
      "The padded sequence:\n",
      "\n",
      "[ 406  415    3   69  138   14  252    2   77  317   10   17   54    9\n",
      "   13  591    8 2183  493  503  107    5  598    2   39  332  131  365\n",
      "    4   31   38   30   51  214    2  429   61   40    1 2276   97    1\n",
      "  717  466    0    0    0    0    0    0]\n"
     ]
    }
   ],
   "source": [
    "print(\"The Transformation of sentence::\")\n",
    "print(\"\\n\\nThe normal Sentencen:\\n\")\n",
    "print(Features[2])\n",
    "print(\"\\n\\nThe tokenized sequence:\\n\")\n",
    "print(Feature_sequences[2])\n",
    "print(\"\\n\\nThe padded sequence:\\n\")\n",
    "print(padded_sequences[2])\n",
    "\n",
    "# Convert to array for passing through the model\n",
    "X = np.array(padded_sequences)"
   ]
  },
  {
   "cell_type": "markdown",
   "execution_count": null,
   "metadata": {},
   "source": [
    "# Loading the word Embeddings\n",
    "### When training a deep learning model on text, an Embedding layer is created which assigns some set of vectors to a word so that similar meaning words get clustered together. Since it is a long and compuatation heavy task, we generally import these vectors and use them.\n",
    "\n",
    "### These vectors are ususally of a higher dimension example 50 or 100 so that the meaning of the words can be classified properly.\n"
   ]
  },
  {
   "cell_type": "markdown",
   "execution_count": null,
   "metadata": {},
   "source": [
    "<img src=\"https://nlp.stanford.edu/projects/glove/images/man_woman.jpg\" style=\"width:800px;height:500px;\">\n",
    "\n",
    "#### GloVe Visualization provided by stanford"
   ]
  },
  {
   "cell_type": "markdown",
   "execution_count": null,
   "metadata": {},
   "source": [
    "### There are multiple sources from where a person can get these word embeddings. We will use the one named as \"Global Vector for Word Representation\" or GloVe provided [Here](url:\"https://www.kaggle.com/watts2/glove6b50dtxt\") . You can read more about it on [this page](https://nlp.stanford.edu/projects/glove/)\n",
    "### In this notebook we will be using 50 dimensional vector version for the word embeddings.    \n",
    "#### The embeddings are stored as : \"word\",    vector[0],     vector[1],      vector[2], ..........,     vector[49]"
   ]
  },
  {
   "cell_type": "code",
   "execution_count": 7,
   "metadata": {},
   "outputs": [
    {
     "name": "stdout",
     "output_type": "stream",
     "text": [
      "the 0.418 0.24968 -0.41242 0.1217 0.34527 -0.044457 -0.49688 -0.17862 -0.00066023 -0.6566 0.27843 -0.14767 -0.55677 0.14658 -0.0095095 0.011658 0.10204 -0.12792 -0.8443 -0.12181 -0.016801 -0.33279 -0.1552 -0.23131 -0.19181 -1.8823 -0.76746 0.099051 -0.42125 -0.19526 4.0071 -0.18594 -0.52287 -0.31681 0.00059213 0.0074449 0.17778 -0.15897 0.012041 -0.054223 -0.29871 -0.15749 -0.34758 -0.045637 -0.44251 0.18785 0.0027849 -0.18411 -0.11514 -0.78581\n",
      "\n"
     ]
    }
   ],
   "source": [
    "with open(\"../input/glove6b50dtxt/glove.6B.50d.txt\", encoding='utf-8') as f:\n",
    "    for x in f:\n",
    "        print(x)\n",
    "        break"
   ]
  },
  {
   "cell_type": "markdown",
   "execution_count": null,
   "metadata": {},
   "source": [
    "As we can see, the word is followed by a long list of vectors corresponding to the word 'the' we need to split the word and the vectors and store in a dictionary for easy use"
   ]
  },
  {
   "cell_type": "code",
   "execution_count": 8,
   "metadata": {},
   "outputs": [],
   "source": [
    "EMBEDDING_DIM = 50 # number of dimensions of the word embeddings"
   ]
  },
  {
   "cell_type": "code",
   "execution_count": 9,
   "metadata": {},
   "outputs": [
    {
     "name": "stdout",
     "output_type": "stream",
     "text": [
      "Done....\n",
      "\n"
     ]
    }
   ],
   "source": [
    "# initialize the word to index dictionary\n",
    "word_2_vec = {}\n",
    "with open(\"../input/glove6b50dtxt/glove.6B.50d.txt\", encoding='utf-8') as f:\n",
    "    for line in f:\n",
    "        \n",
    "        # spilt the elements by space\n",
    "        elements = line.split()\n",
    "        word = elements[0]\n",
    "        # convert to np array\n",
    "        vecs = np.asarray(elements[1:], dtype='float32')\n",
    "        word_2_vec[word] = vecs\n",
    "        \n",
    "print(\"Done....\\n\")"
   ]
  },
  {
   "cell_type": "code",
   "execution_count": 10,
   "metadata": {},
   "outputs": [
    {
     "name": "stdout",
     "output_type": "stream",
     "text": [
      "Number of words 400000\n",
      "Shape of the vector 166929\n",
      "Number of max words to be saved 40000\n"
     ]
    }
   ],
   "source": [
    "print(f\"Number of words {len(word_2_vec)}\")\n",
    "print(f\"Shape of the vector {len(word_idx)}\")\n",
    "print(f\"Number of max words to be saved {NUM_WORDS}\")"
   ]
  },
  {
   "cell_type": "markdown",
   "execution_count": null,
   "metadata": {},
   "source": [
    "### Cool. So we have 400000 unique words with their vectors. Time to convert each word in the comment_text to a sequence of these vectors"
   ]
  },
  {
   "cell_type": "markdown",
   "execution_count": null,
   "metadata": {},
   "source": [
    "# Combine the Word Index and the Vectors\n",
    "### First we find the minimum from the number of our vocabulary words and number of words that are indexed during the tokenizer fit since we want the words in the embedding matrix to be in our vocabulary AND have a token. It should also have a vector associated with it."
   ]
  },
  {
   "cell_type": "code",
   "execution_count": 11,
   "metadata": {},
   "outputs": [
    {
     "name": "stdout",
     "output_type": "stream",
     "text": [
      "(40000, 50)\n"
     ]
    }
   ],
   "source": [
    "# get the max number of words that exist in word index and vocabulary both\n",
    "num = min(NUM_WORDS, len(word_idx)+ 1)\n",
    "\n",
    "# Matrix containing the word index and the vector of the word\n",
    "embedding_matrix = np.zeros((num, EMBEDDING_DIM))\n",
    "\n",
    "for word, idx in word_idx.items():\n",
    "    if idx < NUM_WORDS:\n",
    "        word_vec = word_2_vec.get(word)\n",
    "        if word_vec is not None:\n",
    "            embedding_matrix[idx] = word_vec\n",
    "            \n",
    "print(embedding_matrix.shape)"
   ]
  },
  {
   "cell_type": "markdown",
   "execution_count": null,
   "metadata": {},
   "source": [
    "# Making and training on the model\n"
   ]
  },
  {
   "cell_type": "markdown",
   "execution_count": null,
   "metadata": {},
   "source": [
    "## Coming to the best part of the project, Training the model\n",
    "\n"
   ]
  },
  {
   "cell_type": "markdown",
   "execution_count": null,
   "metadata": {},
   "source": [
    "### Before we start on the model, lets first make a class which could help us train multiple models one after the other and compare them"
   ]
  },
  {
   "cell_type": "code",
   "execution_count": 12,
   "metadata": {},
   "outputs": [],
   "source": [
    "def train(models, epochs, graph=True, verbose=2):\n",
    "    n = 1\n",
    "    plt.figure(figsize=(10, 7))\n",
    "    \n",
    "    histories = []\n",
    "    for model in models:\n",
    "        print(f\"model number : {n} is training\")\n",
    "        model.compile(loss='binary_crossentropy', optimizer='adam', metrics=['acc'])\n",
    "\n",
    "        history = model.fit(\n",
    "            X, \n",
    "            Labels,\n",
    "            batch_size=128,\n",
    "            epochs=epochs,\n",
    "            validation_split=0.2, # 20 percent data reserved for validation to avoid or monitor overfitting/ underfitting\n",
    "            verbose=verbose,\n",
    "        )\n",
    "        histories.append(history)\n",
    "        \n",
    "        if graph:\n",
    "            plt.plot(history.history['val_acc'], label=f\"Model {n}\")\n",
    "        n+=1\n",
    "            \n",
    "    plt.xlabel('Epochs')\n",
    "    plt.ylabel('Validation Accuracy')\n",
    "    plt.legend()"
   ]
  },
  {
   "cell_type": "markdown",
   "execution_count": null,
   "metadata": {},
   "source": [
    "### Lets start with a very simple model which starts with an embedding layers, goes throught an LSTM and an GlobalAveragePool and then to a Final output layer with a sigmoid activation.\n",
    "\n",
    "#### For information about the LSTM networks or other RNN networks you can refer to [this video](https://www.youtube.com/watch?v=WCUNPb-5EYI) or try to get [this course](https://www.coursera.org/specializations/natural-language-processing) by Deeplearning.ai on Coursera(highly recommended)"
   ]
  },
  {
   "cell_type": "code",
   "execution_count": 13,
   "metadata": {},
   "outputs": [
    {
     "name": "stdout",
     "output_type": "stream",
     "text": [
      "Model: \"sequential\"\n",
      "_________________________________________________________________\n",
      "Layer (type)                 Output Shape              Param #   \n",
      "=================================================================\n",
      "embedding (Embedding)        (None, 50, 50)            2000000   \n",
      "_________________________________________________________________\n",
      "lstm (LSTM)                  (None, 50, 5)             1120      \n",
      "_________________________________________________________________\n",
      "global_average_pooling1d (Gl (None, 5)                 0         \n",
      "_________________________________________________________________\n",
      "dense (Dense)                (None, 1)                 6         \n",
      "=================================================================\n",
      "Total params: 2,001,126\n",
      "Trainable params: 1,126\n",
      "Non-trainable params: 2,000,000\n",
      "_________________________________________________________________\n"
     ]
    }
   ],
   "source": [
    "model = tf.keras.models.Sequential([\n",
    "    \n",
    "    # Embedding layers that takes in the embedding matrix. Be sure to set trainable to false or else it will mess up your \n",
    "    # nicely pre trained vectors\n",
    "    tf.keras.layers.Embedding(num, EMBEDDING_DIM, weights=[embedding_matrix], input_length=MAXLEN,trainable=False),\n",
    "    tf.keras.layers.LSTM(5, return_sequences=True),\n",
    "    tf.keras.layers.GlobalAveragePooling1D(),\n",
    "    tf.keras.layers.Dense(1, activation='sigmoid')\n",
    "])\n",
    "model.summary()"
   ]
  },
  {
   "cell_type": "markdown",
   "execution_count": null,
   "metadata": {},
   "source": [
    "## Lets add some more LSTM units and more Dense Layers"
   ]
  },
  {
   "cell_type": "code",
   "execution_count": 14,
   "metadata": {},
   "outputs": [
    {
     "name": "stdout",
     "output_type": "stream",
     "text": [
      "Model: \"sequential_1\"\n",
      "_________________________________________________________________\n",
      "Layer (type)                 Output Shape              Param #   \n",
      "=================================================================\n",
      "embedding_1 (Embedding)      (None, 50, 50)            2000000   \n",
      "_________________________________________________________________\n",
      "lstm_1 (LSTM)                (None, 50, 50)            20200     \n",
      "_________________________________________________________________\n",
      "global_average_pooling1d_1 ( (None, 50)                0         \n",
      "_________________________________________________________________\n",
      "dense_1 (Dense)              (None, 128)               6528      \n",
      "_________________________________________________________________\n",
      "dense_2 (Dense)              (None, 5)                 645       \n",
      "_________________________________________________________________\n",
      "dense_3 (Dense)              (None, 1)                 6         \n",
      "=================================================================\n",
      "Total params: 2,027,379\n",
      "Trainable params: 27,379\n",
      "Non-trainable params: 2,000,000\n",
      "_________________________________________________________________\n"
     ]
    }
   ],
   "source": [
    "model2= tf.keras.models.Sequential([\n",
    "    tf.keras.layers.Embedding(num, EMBEDDING_DIM, weights=[embedding_matrix], input_length=MAXLEN,trainable=False),\n",
    "    tf.keras.layers.LSTM(50, return_sequences=True),\n",
    "    tf.keras.layers.GlobalAveragePooling1D(),\n",
    "    tf.keras.layers.Dense(128, activation='relu'),\n",
    "    tf.keras.layers.Dense(5, activation='relu'),\n",
    "    tf.keras.layers.Dense(1, activation='sigmoid')\n",
    "])\n",
    "model2.summary()"
   ]
  },
  {
   "cell_type": "markdown",
   "execution_count": null,
   "metadata": {},
   "source": [
    "## Lets add some Convolution layers to see how it does"
   ]
  },
  {
   "cell_type": "code",
   "execution_count": 15,
   "metadata": {},
   "outputs": [
    {
     "name": "stdout",
     "output_type": "stream",
     "text": [
      "Model: \"sequential_2\"\n",
      "_________________________________________________________________\n",
      "Layer (type)                 Output Shape              Param #   \n",
      "=================================================================\n",
      "embedding_2 (Embedding)      (None, 50, 50)            2000000   \n",
      "_________________________________________________________________\n",
      "lstm_2 (LSTM)                (None, 50, 50)            20200     \n",
      "_________________________________________________________________\n",
      "conv1d (Conv1D)              (None, 36, 10)            7510      \n",
      "_________________________________________________________________\n",
      "global_average_pooling1d_2 ( (None, 10)                0         \n",
      "_________________________________________________________________\n",
      "dense_4 (Dense)              (None, 128)               1408      \n",
      "_________________________________________________________________\n",
      "dense_5 (Dense)              (None, 5)                 645       \n",
      "_________________________________________________________________\n",
      "dense_6 (Dense)              (None, 1)                 6         \n",
      "=================================================================\n",
      "Total params: 2,029,769\n",
      "Trainable params: 29,769\n",
      "Non-trainable params: 2,000,000\n",
      "_________________________________________________________________\n"
     ]
    }
   ],
   "source": [
    "model3= tf.keras.models.Sequential([\n",
    "    tf.keras.layers.Embedding(num, EMBEDDING_DIM, weights=[embedding_matrix], input_length=MAXLEN,trainable=False),\n",
    "    \n",
    "    tf.keras.layers.LSTM(50, return_sequences=True),\n",
    "    tf.keras.layers.Conv1D(10,15, activation='relu'),\n",
    "\n",
    "    tf.keras.layers.GlobalAveragePooling1D(),\n",
    "    tf.keras.layers.Dense(128, activation='relu'),\n",
    "    tf.keras.layers.Dense(5, activation='relu'),\n",
    "    tf.keras.layers.Dense(1, activation='sigmoid')\n",
    "])\n",
    "\n",
    "model3.summary()"
   ]
  },
  {
   "cell_type": "markdown",
   "execution_count": null,
   "metadata": {},
   "source": [
    "## Finally lets add some Bidirectional LSTMs to the first model to see how it compares "
   ]
  },
  {
   "cell_type": "code",
   "execution_count": 16,
   "metadata": {},
   "outputs": [
    {
     "name": "stdout",
     "output_type": "stream",
     "text": [
      "Model: \"sequential_3\"\n",
      "_________________________________________________________________\n",
      "Layer (type)                 Output Shape              Param #   \n",
      "=================================================================\n",
      "embedding_3 (Embedding)      (None, 50, 50)            2000000   \n",
      "_________________________________________________________________\n",
      "bidirectional (Bidirectional (None, 50, 10)            2240      \n",
      "_________________________________________________________________\n",
      "global_average_pooling1d_3 ( (None, 10)                0         \n",
      "_________________________________________________________________\n",
      "dense_7 (Dense)              (None, 1)                 11        \n",
      "=================================================================\n",
      "Total params: 2,002,251\n",
      "Trainable params: 2,251\n",
      "Non-trainable params: 2,000,000\n",
      "_________________________________________________________________\n"
     ]
    }
   ],
   "source": [
    "model4= tf.keras.models.Sequential([\n",
    "    \n",
    "    # Embedding layers that takes in the embedding matrix. Be sure to set trainable to false or else it will mess up your \n",
    "    # nicely pre trained vectors\n",
    "    tf.keras.layers.Embedding(num, EMBEDDING_DIM, weights=[embedding_matrix], input_length=MAXLEN,trainable=False),\n",
    "    tf.keras.layers.Bidirectional(tf.keras.layers.LSTM(5, return_sequences=True)),\n",
    "    tf.keras.layers.GlobalAveragePooling1D(),\n",
    "    tf.keras.layers.Dense(1, activation='sigmoid')\n",
    "])\n",
    "model4.summary()"
   ]
  },
  {
   "cell_type": "markdown",
   "execution_count": null,
   "metadata": {},
   "source": [
    "## Time to finally use our train function"
   ]
  },
  {
   "cell_type": "code",
   "execution_count": 17,
   "metadata": {},
   "outputs": [
    {
     "name": "stdout",
     "output_type": "stream",
     "text": [
      "model number : 1 is training\n",
      "Epoch 1/10\n",
      "998/998 - 8s - loss: 0.2969 - acc: 0.8812 - val_loss: 0.1907 - val_acc: 0.9304\n",
      "Epoch 2/10\n",
      "998/998 - 8s - loss: 0.1798 - acc: 0.9339 - val_loss: 0.1670 - val_acc: 0.9425\n",
      "Epoch 3/10\n",
      "998/998 - 9s - loss: 0.1631 - acc: 0.9417 - val_loss: 0.1557 - val_acc: 0.9453\n",
      "Epoch 4/10\n",
      "998/998 - 8s - loss: 0.1540 - acc: 0.9454 - val_loss: 0.1503 - val_acc: 0.9477\n",
      "Epoch 5/10\n",
      "998/998 - 8s - loss: 0.1481 - acc: 0.9479 - val_loss: 0.1475 - val_acc: 0.9483\n",
      "Epoch 6/10\n",
      "998/998 - 8s - loss: 0.1444 - acc: 0.9491 - val_loss: 0.1460 - val_acc: 0.9484\n",
      "Epoch 7/10\n",
      "998/998 - 8s - loss: 0.1417 - acc: 0.9506 - val_loss: 0.1427 - val_acc: 0.9501\n",
      "Epoch 8/10\n",
      "998/998 - 8s - loss: 0.1395 - acc: 0.9511 - val_loss: 0.1425 - val_acc: 0.9497\n",
      "Epoch 9/10\n",
      "998/998 - 8s - loss: 0.1385 - acc: 0.9513 - val_loss: 0.1433 - val_acc: 0.9498\n",
      "Epoch 10/10\n",
      "998/998 - 8s - loss: 0.1369 - acc: 0.9519 - val_loss: 0.1404 - val_acc: 0.9502\n",
      "model number : 2 is training\n",
      "Epoch 1/10\n",
      "998/998 - 9s - loss: 0.1684 - acc: 0.9406 - val_loss: 0.1370 - val_acc: 0.9517\n",
      "Epoch 2/10\n",
      "998/998 - 8s - loss: 0.1318 - acc: 0.9534 - val_loss: 0.1280 - val_acc: 0.9544\n",
      "Epoch 3/10\n",
      "998/998 - 8s - loss: 0.1237 - acc: 0.9556 - val_loss: 0.1242 - val_acc: 0.9552\n",
      "Epoch 4/10\n",
      "998/998 - 8s - loss: 0.1180 - acc: 0.9574 - val_loss: 0.1227 - val_acc: 0.9559\n",
      "Epoch 5/10\n",
      "998/998 - 8s - loss: 0.1137 - acc: 0.9589 - val_loss: 0.1217 - val_acc: 0.9579\n",
      "Epoch 6/10\n",
      "998/998 - 8s - loss: 0.1104 - acc: 0.9602 - val_loss: 0.1181 - val_acc: 0.9578\n",
      "Epoch 7/10\n",
      "998/998 - 9s - loss: 0.1075 - acc: 0.9611 - val_loss: 0.1175 - val_acc: 0.9586\n",
      "Epoch 8/10\n",
      "998/998 - 9s - loss: 0.1040 - acc: 0.9624 - val_loss: 0.1176 - val_acc: 0.9591\n",
      "Epoch 9/10\n",
      "998/998 - 9s - loss: 0.1012 - acc: 0.9634 - val_loss: 0.1155 - val_acc: 0.9587\n",
      "Epoch 10/10\n",
      "998/998 - 8s - loss: 0.0981 - acc: 0.9644 - val_loss: 0.1200 - val_acc: 0.9567\n",
      "model number : 3 is training\n",
      "Epoch 1/10\n",
      "998/998 - 9s - loss: 0.1786 - acc: 0.9384 - val_loss: 0.1421 - val_acc: 0.9514\n",
      "Epoch 2/10\n",
      "998/998 - 9s - loss: 0.1360 - acc: 0.9524 - val_loss: 0.1338 - val_acc: 0.9545\n",
      "Epoch 3/10\n",
      "998/998 - 9s - loss: 0.1265 - acc: 0.9554 - val_loss: 0.1312 - val_acc: 0.9541\n",
      "Epoch 4/10\n",
      "998/998 - 10s - loss: 0.1201 - acc: 0.9568 - val_loss: 0.1234 - val_acc: 0.9542\n",
      "Epoch 5/10\n",
      "998/998 - 9s - loss: 0.1154 - acc: 0.9587 - val_loss: 0.1352 - val_acc: 0.9556\n",
      "Epoch 6/10\n",
      "998/998 - 9s - loss: 0.1112 - acc: 0.9600 - val_loss: 0.1183 - val_acc: 0.9585\n",
      "Epoch 7/10\n",
      "998/998 - 9s - loss: 0.1078 - acc: 0.9613 - val_loss: 0.1211 - val_acc: 0.9564\n",
      "Epoch 8/10\n",
      "998/998 - 9s - loss: 0.1045 - acc: 0.9626 - val_loss: 0.1203 - val_acc: 0.9580\n",
      "Epoch 9/10\n",
      "998/998 - 9s - loss: 0.1019 - acc: 0.9631 - val_loss: 0.1206 - val_acc: 0.9582\n",
      "Epoch 10/10\n",
      "998/998 - 10s - loss: 0.0985 - acc: 0.9642 - val_loss: 0.1209 - val_acc: 0.9583\n",
      "model number : 4 is training\n",
      "Epoch 1/10\n",
      "998/998 - 14s - loss: 0.2463 - acc: 0.9067 - val_loss: 0.1742 - val_acc: 0.9395\n",
      "Epoch 2/10\n",
      "998/998 - 12s - loss: 0.1701 - acc: 0.9393 - val_loss: 0.1666 - val_acc: 0.9379\n",
      "Epoch 3/10\n",
      "998/998 - 12s - loss: 0.1590 - acc: 0.9430 - val_loss: 0.1541 - val_acc: 0.9453\n",
      "Epoch 4/10\n",
      "998/998 - 12s - loss: 0.1495 - acc: 0.9476 - val_loss: 0.1476 - val_acc: 0.9477\n",
      "Epoch 5/10\n",
      "998/998 - 13s - loss: 0.1435 - acc: 0.9495 - val_loss: 0.1438 - val_acc: 0.9484\n",
      "Epoch 6/10\n",
      "998/998 - 12s - loss: 0.1386 - acc: 0.9508 - val_loss: 0.1397 - val_acc: 0.9510\n",
      "Epoch 7/10\n",
      "998/998 - 12s - loss: 0.1342 - acc: 0.9521 - val_loss: 0.1361 - val_acc: 0.9521\n",
      "Epoch 8/10\n",
      "998/998 - 12s - loss: 0.1304 - acc: 0.9538 - val_loss: 0.1335 - val_acc: 0.9532\n",
      "Epoch 9/10\n",
      "998/998 - 13s - loss: 0.1276 - acc: 0.9545 - val_loss: 0.1327 - val_acc: 0.9539\n",
      "Epoch 10/10\n",
      "998/998 - 13s - loss: 0.1254 - acc: 0.9553 - val_loss: 0.1323 - val_acc: 0.9537\n"
     ]
    },
    {
     "data": {
      "image/png": "[encoded data removed]",
      "text/plain": [
       "<Figure size 720x504 with 1 Axes>"
      ]
     },
     "metadata": {
      "needs_background": "light"
     },
     "output_type": "display_data"
    }
   ],
   "source": [
    "models = [model, model2, model3, model4]\n",
    "train(models, epochs=10)"
   ]
  },
  {
   "cell_type": "markdown",
   "execution_count": null,
   "metadata": {},
   "source": [
    "### You can test out your own combinations for the models. I hope you learnt something new and useful today. If you have any questions, leave them in the comments and i will try my best to help you out"
   ]
  }
 ],
 "metadata": {
  "kernelspec": {
   "display_name": "Python 3",
   "language": "python",
   "name": "python3"
  },
  "language_info": {
   "codemirror_mode": {
    "name": "ipython",
    "version": 3
   },
   "file_extension": ".py",
   "mimetype": "text/x-python",
   "name": "python",
   "nbconvert_exporter": "python",
   "pygments_lexer": "ipython3",
   "version": "3.7.6"
  }
 },
 "nbformat": 4,
 "nbformat_minor": 4
}
